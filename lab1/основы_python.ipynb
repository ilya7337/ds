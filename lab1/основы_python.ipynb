{
  "cells": [
    {
      "cell_type": "markdown",
      "metadata": {
        "id": "M-DGa20PaHnu"
      },
      "source": [
        "#Задача 1\n",
        "Написать функцию на вход которой подается строка, состоящая из латинских букв.\n",
        "Функция должна вернуть количество гласных букв (a, e, i, o, u) в этой строке. Написать тесты для кода"
      ]
    },
    {
      "cell_type": "code",
      "execution_count": 1,
      "metadata": {
        "id": "XvX8X_JJ6PCb"
      },
      "outputs": [
        {
          "name": "stdout",
          "output_type": "stream",
          "text": [
            "5\n",
            "0\n",
            "3\n"
          ]
        }
      ],
      "source": [
        "def count_vowels(data: str) -> int:\n",
        "    letters = ['a', 'e', 'i', 'o', 'u']\n",
        "    res = 0\n",
        "    for l in letters:\n",
        "        res += data.count(l)\n",
        "    return res\n",
        "\n",
        "\n",
        "print(count_vowels('aaqwe qaqwe')) # 5\n",
        "print(count_vowels('sdf')) # 0\n",
        "print(count_vowels('aaa')) # 3"
      ]
    },
    {
      "cell_type": "markdown",
      "metadata": {
        "id": "t2ClV_Y0bbr6"
      },
      "source": [
        "# Задача 2\n",
        "Написать функцию на вход, которой подается строка. Функция должна вернуть true, если\n",
        "каждый символ в строке встречается только 1 раз, иначе должна вернуть false. Написать тесты для кода"
      ]
    },
    {
      "cell_type": "code",
      "execution_count": 2,
      "metadata": {
        "id": "FppbECao6VIz"
      },
      "outputs": [
        {
          "name": "stdout",
          "output_type": "stream",
          "text": [
            "False\n",
            "True\n",
            "False\n",
            "True\n"
          ]
        }
      ],
      "source": [
        "def is_unic_simb(data: str) -> bool:\n",
        "    return len(data) == len(set(data))\n",
        "\n",
        "\n",
        "print(is_unic_simb('aaqwe qaqwe')) # false\n",
        "print(is_unic_simb('sdf')) # true\n",
        "print(is_unic_simb('aaa')) # false\n",
        "print(is_unic_simb('')) # true"
      ]
    },
    {
      "cell_type": "markdown",
      "metadata": {
        "id": "udRiIK1cdt6E"
      },
      "source": [
        "# Задача 3\n",
        "Написать функцию, которая принимает положительное число и возвращает количество\n",
        "бит равных 1 в этом числе. Написать тесты для кода"
      ]
    },
    {
      "cell_type": "code",
      "execution_count": 3,
      "metadata": {
        "id": "6tkfDJRz6dp_"
      },
      "outputs": [
        {
          "name": "stdout",
          "output_type": "stream",
          "text": [
            "6\n",
            "1\n",
            "5\n"
          ]
        }
      ],
      "source": [
        "def get_1(num: int) -> int:\n",
        "    return bin(num)[2:].count('1')\n",
        "\n",
        "print(get_1(123)) # 6\n",
        "print(get_1(1)) # 1\n",
        "print(get_1(654)) # 5"
      ]
    },
    {
      "cell_type": "markdown",
      "metadata": {
        "id": "26dDUz-Ae17N"
      },
      "source": [
        "# Задача 4\n",
        "Написать функцию, которая принимает положительное число. Функция должна вернуть то,\n",
        "сколько раз необходимо перемножать цифры числа или результат перемножения, чтобы\n",
        "получилось число состоящее из одной цифры.\n",
        "Например, для входного числа:\n",
        "· 39 функция должна вернуть 3, так как 3*9=27 => 2*7=14 => 1*4=4\n",
        "· 4 функция должна вернуть 0, так как число уже состоит из одной цифры\n",
        "· 999 функция должна вернуть 4, так как 9*9*9=729 => 7*2*9=126 => 1*2*6=12 =>\n",
        "1*2=2. Написать тесты для кода"
      ]
    },
    {
      "cell_type": "code",
      "execution_count": 4,
      "metadata": {
        "id": "BH1A_Mgi6i4G"
      },
      "outputs": [
        {
          "name": "stdout",
          "output_type": "stream",
          "text": [
            "4\n",
            "0\n",
            "3\n"
          ]
        }
      ],
      "source": [
        "def magic(n):\n",
        "    count = 0\n",
        "    new_n = 1\n",
        "    while n // 10 != 0:\n",
        "        for i in str(n):\n",
        "                new_n *= int(i)\n",
        "        n = new_n\n",
        "        new_n = 1\n",
        "        count += 1\n",
        "    return count\n",
        "print(magic(999)) # 4\n",
        "print(magic(4)) # 0\n",
        "print(magic(39)) # 3"
      ]
    },
    {
      "cell_type": "markdown",
      "metadata": {
        "id": "0nS-kIa8g8vd"
      },
      "source": [
        "# Задача 5\n",
        "Написать функцию, которая принимает два целочисленных вектора одинаковой длины и\n",
        "возвращает среднеквадратическое отклонение двух векторов. Написать тесты для кода"
      ]
    },
    {
      "cell_type": "markdown",
      "metadata": {},
      "source": []
    },
    {
      "cell_type": "code",
      "execution_count": null,
      "metadata": {
        "id": "8iphx4LM6xbx"
      },
      "outputs": [],
      "source": [
        "def mse(pred1, pred2):\n",
        "    res = 0\n",
        "    for pare in zip(pred1, pred2):\n",
        "        res += (pare[0] - pare[1]) ** 2\n",
        "    res /= len(pred1)\n",
        "    return  res ** 0.5\n",
        "\n",
        "print(mse([1,2,3,4,5], [2,3,4,5,6])) # 1\n",
        "print(mse([1], [1])) # 0"
      ]
    },
    {
      "cell_type": "markdown",
      "metadata": {
        "id": "vpIPKL439zkw"
      },
      "source": [
        "# Задача 6\n",
        "Написать функцию, принимающая целое положительное число. Функция должна вернуть\n",
        "строку вида “(n1**p1)(n2**p2)…(nk**pk)” представляющая разложение числа на простые\n",
        "множители (если pi == 1, то выводить только ni).\n",
        "Например, для числа 86240 функция должна вернуть “(2**5)(5)(7**2)(11)”. Написать тесты для кода"
      ]
    },
    {
      "cell_type": "code",
      "execution_count": 7,
      "metadata": {
        "id": "pFebmcZk94Jw"
      },
      "outputs": [
        {
          "name": "stdout",
          "output_type": "stream",
          "text": [
            "(2**5)(5)(7**2)(11)\n",
            "(2**2)(5**2)\n",
            "(37)\n",
            "(2**3)(3)\n",
            "\n"
          ]
        }
      ],
      "source": [
        "def prime_factors(n):\n",
        "        i = 2\n",
        "        factors = []\n",
        "        while i * i <= n:\n",
        "            if n % i:\n",
        "                i += 1\n",
        "            else:\n",
        "                n //= i\n",
        "                factors.append(i)\n",
        "        if n > 1:\n",
        "            factors.append(n)\n",
        "        return factors\n",
        "\n",
        "def prime_factorization(n):\n",
        "\n",
        "    factors = prime_factors(n)\n",
        "    factor_counts = {}\n",
        "    for factor in factors:\n",
        "        if factor in factor_counts:\n",
        "            factor_counts[factor] += 1\n",
        "        else:\n",
        "            factor_counts[factor] = 1\n",
        "\n",
        "    result = []\n",
        "    for factor, count in factor_counts.items():\n",
        "        if count == 1:\n",
        "            result.append(f'({factor})')\n",
        "        else:\n",
        "            result.append(f\"({factor}**{count})\")\n",
        "\n",
        "    return \"\".join(result)\n",
        "\n",
        "print(prime_factorization(86240))  # Should print \"(2**5)(5)(7**2)(11)\"\n",
        "print(prime_factorization(100))  # Should print \"(2**2)(5**2)\"\n",
        "print(prime_factorization(37))  # Should print \"(37)\"\n",
        "print(prime_factorization(24))  # Should print \"(2**3)(3)\"\n",
        "print(prime_factorization(1))  # Should print \"\""
      ]
    },
    {
      "cell_type": "markdown",
      "metadata": {
        "id": "ps2s0BudX7A2"
      },
      "source": [
        "# Задача 7\n",
        "Написать функцию, принимающая целое число n, задающее количество кубиков. Функция\n",
        "должна определить, можно ли из данного кол-ва кубиков построить пирамиду, то есть\n",
        "можно ли представить число n как 1^2+2^2+3^2+…+k^2. Если можно, то функция должна\n",
        "вернуть k, иначе строку “It is impossible”. Написать тесты для кода"
      ]
    },
    {
      "cell_type": "code",
      "execution_count": 26,
      "metadata": {
        "id": "3YPjEXxhX_YT"
      },
      "outputs": [
        {
          "name": "stdout",
          "output_type": "stream",
          "text": [
            "It is impossible\n",
            "5\n",
            "4\n"
          ]
        }
      ],
      "source": [
        "def pyramid(number):\n",
        "    k = 1\n",
        "    summ = 0\n",
        "    while summ < number:\n",
        "        summ += k ** 2\n",
        "        k += 1\n",
        "    if summ == number:\n",
        "        return k - 1\n",
        "    else:\n",
        "        return \"It is impossible\"\n",
        "\n",
        "print(pyramid(9)) # It is impossible\n",
        "print(pyramid(55)) # 5\n",
        "print(pyramid(30)) # 4"
      ]
    },
    {
      "cell_type": "markdown",
      "metadata": {
        "id": "KeKgmIdAQMEJ"
      },
      "source": [
        "# Задача 8\n",
        "Функция принимает на вход положительное число и определяет является ли оно сбалансированным, т.е. сумма цифр до средних равна сумме цифр после. Средними в случае нечетного числа цифр считать одну цифру, в случае четного - две средних. Написать тесты для кода"
      ]
    },
    {
      "cell_type": "code",
      "execution_count": 1,
      "metadata": {
        "id": "gMAAqtqlQrZt"
      },
      "outputs": [
        {
          "name": "stdout",
          "output_type": "stream",
          "text": [
            "True\n",
            "False\n",
            "True\n",
            "False\n"
          ]
        }
      ],
      "source": [
        "def is_balanced(num):\n",
        "    nums = [int(n) for n in str(num)]\n",
        "    if len(nums) % 2 == 0:\n",
        "        return sum(nums[:(len(nums)//2 - 1)]) == sum(nums[(len(nums)//2 + 1):])\n",
        "    else:\n",
        "        return sum(nums[:(len(nums)//2)]) == sum(nums[(len(nums)//2 + 1):])\n",
        "\n",
        "print(is_balanced(42306)) #true\n",
        "print(is_balanced(12345)) #false\n",
        "print(is_balanced(4234)) #true\n",
        "print(is_balanced(4568)) #false"
      ]
    },
    {
      "cell_type": "code",
      "execution_count": null,
      "metadata": {},
      "outputs": [],
      "source": []
    }
  ],
  "metadata": {
    "colab": {
      "provenance": []
    },
    "kernelspec": {
      "display_name": "Python 3",
      "name": "python3"
    },
    "language_info": {
      "codemirror_mode": {
        "name": "ipython",
        "version": 3
      },
      "file_extension": ".py",
      "mimetype": "text/x-python",
      "name": "python",
      "nbconvert_exporter": "python",
      "pygments_lexer": "ipython3",
      "version": "3.10.2"
    }
  },
  "nbformat": 4,
  "nbformat_minor": 0
}
